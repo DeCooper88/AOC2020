{
 "cells": [
  {
   "cell_type": "markdown",
   "metadata": {},
   "source": [
    "## Advent of code 2020 - day 1 - [Report Repair](https://adventofcode.com/2020/day/1)\n",
    "### numpy and pandas solutions"
   ]
  },
  {
   "cell_type": "code",
   "execution_count": 1,
   "metadata": {},
   "outputs": [],
   "source": [
    "import numpy as np\n",
    "import pandas as pd"
   ]
  },
  {
   "cell_type": "markdown",
   "metadata": {},
   "source": [
    "##### numpy solution for given example part one."
   ]
  },
  {
   "cell_type": "code",
   "execution_count": 2,
   "metadata": {},
   "outputs": [
    {
     "data": {
      "text/plain": [
       "array([1721,  979,  366,  299,  675, 1456])"
      ]
     },
     "execution_count": 2,
     "metadata": {},
     "output_type": "execute_result"
    }
   ],
   "source": [
    "t0 = np.array([1721, 979, 366, 299, 675, 1456])\n",
    "t0"
   ]
  },
  {
   "cell_type": "code",
   "execution_count": 3,
   "metadata": {},
   "outputs": [
    {
     "data": {
      "text/plain": [
       "array([[3442, 2700, 2087, 2020, 2396, 3177],\n",
       "       [2700, 1958, 1345, 1278, 1654, 2435],\n",
       "       [2087, 1345,  732,  665, 1041, 1822],\n",
       "       [2020, 1278,  665,  598,  974, 1755],\n",
       "       [2396, 1654, 1041,  974, 1350, 2131],\n",
       "       [3177, 2435, 1822, 1755, 2131, 2912]])"
      ]
     },
     "execution_count": 3,
     "metadata": {},
     "output_type": "execute_result"
    }
   ],
   "source": [
    "t0_sums = t0.reshape(len(t0), 1) + t0.reshape(1, len(t0))\n",
    "t0_sums"
   ]
  },
  {
   "cell_type": "code",
   "execution_count": 4,
   "metadata": {},
   "outputs": [
    {
     "data": {
      "text/plain": [
       "(array([0, 3]), array([3, 0]))"
      ]
     },
     "execution_count": 4,
     "metadata": {},
     "output_type": "execute_result"
    }
   ],
   "source": [
    "t0_index = np.where(t0_sums == 2020)\n",
    "t0_index"
   ]
  },
  {
   "cell_type": "code",
   "execution_count": 5,
   "metadata": {},
   "outputs": [
    {
     "data": {
      "text/plain": [
       "array([1721,  299])"
      ]
     },
     "execution_count": 5,
     "metadata": {},
     "output_type": "execute_result"
    }
   ],
   "source": [
    "t0_values = t0[t0_index[0]]\n",
    "t0_values"
   ]
  },
  {
   "cell_type": "code",
   "execution_count": 6,
   "metadata": {},
   "outputs": [
    {
     "data": {
      "text/plain": [
       "514579"
      ]
     },
     "execution_count": 6,
     "metadata": {},
     "output_type": "execute_result"
    }
   ],
   "source": [
    "t0_answer = np.prod(t0_values)\n",
    "t0_answer"
   ]
  },
  {
   "cell_type": "markdown",
   "metadata": {},
   "source": [
    "##### numpy solution part one."
   ]
  },
  {
   "cell_type": "code",
   "execution_count": 7,
   "metadata": {},
   "outputs": [
    {
     "name": "stdout",
     "output_type": "stream",
     "text": [
      "solution part one: 703131\n"
     ]
    }
   ],
   "source": [
    "day1 = np.loadtxt('2020_1.txt')\n",
    "day1_sums = day1.reshape(len(day1), 1) + day1.reshape(1, len(day1))\n",
    "day1_index = np.where(day1_sums == 2020)\n",
    "day1_values = day1[day1_index[0]]\n",
    "day1_answer = np.prod(day1_values)\n",
    "print('solution part one:', int(day1_answer))"
   ]
  },
  {
   "cell_type": "markdown",
   "metadata": {},
   "source": [
    "##### pandas solution for given example part one."
   ]
  },
  {
   "cell_type": "code",
   "execution_count": 8,
   "metadata": {},
   "outputs": [
    {
     "data": {
      "text/html": [
       "<div>\n",
       "<style scoped>\n",
       "    .dataframe tbody tr th:only-of-type {\n",
       "        vertical-align: middle;\n",
       "    }\n",
       "\n",
       "    .dataframe tbody tr th {\n",
       "        vertical-align: top;\n",
       "    }\n",
       "\n",
       "    .dataframe thead th {\n",
       "        text-align: right;\n",
       "    }\n",
       "</style>\n",
       "<table border=\"1\" class=\"dataframe\">\n",
       "  <thead>\n",
       "    <tr style=\"text-align: right;\">\n",
       "      <th></th>\n",
       "      <th>expenses</th>\n",
       "      <th>diff_2020</th>\n",
       "      <th>present</th>\n",
       "      <th>product</th>\n",
       "    </tr>\n",
       "  </thead>\n",
       "  <tbody>\n",
       "    <tr>\n",
       "      <td>0</td>\n",
       "      <td>1721</td>\n",
       "      <td>299</td>\n",
       "      <td>True</td>\n",
       "      <td>514579</td>\n",
       "    </tr>\n",
       "    <tr>\n",
       "      <td>1</td>\n",
       "      <td>979</td>\n",
       "      <td>1041</td>\n",
       "      <td>False</td>\n",
       "      <td>0</td>\n",
       "    </tr>\n",
       "    <tr>\n",
       "      <td>2</td>\n",
       "      <td>366</td>\n",
       "      <td>1654</td>\n",
       "      <td>False</td>\n",
       "      <td>0</td>\n",
       "    </tr>\n",
       "    <tr>\n",
       "      <td>3</td>\n",
       "      <td>299</td>\n",
       "      <td>1721</td>\n",
       "      <td>True</td>\n",
       "      <td>514579</td>\n",
       "    </tr>\n",
       "    <tr>\n",
       "      <td>4</td>\n",
       "      <td>675</td>\n",
       "      <td>1345</td>\n",
       "      <td>False</td>\n",
       "      <td>0</td>\n",
       "    </tr>\n",
       "    <tr>\n",
       "      <td>5</td>\n",
       "      <td>1456</td>\n",
       "      <td>564</td>\n",
       "      <td>False</td>\n",
       "      <td>0</td>\n",
       "    </tr>\n",
       "  </tbody>\n",
       "</table>\n",
       "</div>"
      ],
      "text/plain": [
       "   expenses  diff_2020  present  product\n",
       "0      1721        299     True   514579\n",
       "1       979       1041    False        0\n",
       "2       366       1654    False        0\n",
       "3       299       1721     True   514579\n",
       "4       675       1345    False        0\n",
       "5      1456        564    False        0"
      ]
     },
     "execution_count": 8,
     "metadata": {},
     "output_type": "execute_result"
    }
   ],
   "source": [
    "t1 = pd.DataFrame([1721, 979, 366, 299, 675, 1456], columns=['expenses'])\n",
    "t1['diff_2020'] = 2020 - t1['expenses']\n",
    "t1['present'] = t1['diff_2020'].isin(t1['expenses'])\n",
    "t1['product'] = t1['expenses'] * t1['diff_2020'] * t1['present']\n",
    "t1"
   ]
  },
  {
   "cell_type": "code",
   "execution_count": 9,
   "metadata": {},
   "outputs": [
    {
     "data": {
      "text/plain": [
       "514579"
      ]
     },
     "execution_count": 9,
     "metadata": {},
     "output_type": "execute_result"
    }
   ],
   "source": [
    "t1['product'].max()"
   ]
  },
  {
   "cell_type": "markdown",
   "metadata": {},
   "source": [
    "##### pandas solution part one."
   ]
  },
  {
   "cell_type": "code",
   "execution_count": 10,
   "metadata": {},
   "outputs": [
    {
     "data": {
      "text/html": [
       "<div>\n",
       "<style scoped>\n",
       "    .dataframe tbody tr th:only-of-type {\n",
       "        vertical-align: middle;\n",
       "    }\n",
       "\n",
       "    .dataframe tbody tr th {\n",
       "        vertical-align: top;\n",
       "    }\n",
       "\n",
       "    .dataframe thead th {\n",
       "        text-align: right;\n",
       "    }\n",
       "</style>\n",
       "<table border=\"1\" class=\"dataframe\">\n",
       "  <thead>\n",
       "    <tr style=\"text-align: right;\">\n",
       "      <th></th>\n",
       "      <th>expenses</th>\n",
       "      <th>diff_2020</th>\n",
       "      <th>present</th>\n",
       "      <th>product</th>\n",
       "    </tr>\n",
       "  </thead>\n",
       "  <tbody>\n",
       "    <tr>\n",
       "      <td>94</td>\n",
       "      <td>447</td>\n",
       "      <td>1573</td>\n",
       "      <td>True</td>\n",
       "      <td>703131</td>\n",
       "    </tr>\n",
       "    <tr>\n",
       "      <td>106</td>\n",
       "      <td>1573</td>\n",
       "      <td>447</td>\n",
       "      <td>True</td>\n",
       "      <td>703131</td>\n",
       "    </tr>\n",
       "  </tbody>\n",
       "</table>\n",
       "</div>"
      ],
      "text/plain": [
       "     expenses  diff_2020  present  product\n",
       "94        447       1573     True   703131\n",
       "106      1573        447     True   703131"
      ]
     },
     "execution_count": 10,
     "metadata": {},
     "output_type": "execute_result"
    }
   ],
   "source": [
    "day1b = pd.read_csv('2020_1.txt', header=None, names=['expenses'])\n",
    "day1b['diff_2020'] = 2020 - day1b.expenses\n",
    "day1b['present'] = day1b.diff_2020.isin(day1b.expenses)\n",
    "day1b['product'] = day1b.expenses * day1b.diff_2020 * day1b.present\n",
    "day1b[day1b.present == True]"
   ]
  },
  {
   "cell_type": "code",
   "execution_count": 11,
   "metadata": {},
   "outputs": [
    {
     "name": "stdout",
     "output_type": "stream",
     "text": [
      "solution part one: 703131\n"
     ]
    }
   ],
   "source": [
    "day1b_answer = day1b['product'].max()\n",
    "print('solution part one:', int(day1b_answer))"
   ]
  }
 ],
 "metadata": {
  "kernelspec": {
   "display_name": "Python 3",
   "language": "python",
   "name": "python3"
  },
  "language_info": {
   "codemirror_mode": {
    "name": "ipython",
    "version": 3
   },
   "file_extension": ".py",
   "mimetype": "text/x-python",
   "name": "python",
   "nbconvert_exporter": "python",
   "pygments_lexer": "ipython3",
   "version": "3.7.4"
  }
 },
 "nbformat": 4,
 "nbformat_minor": 2
}
